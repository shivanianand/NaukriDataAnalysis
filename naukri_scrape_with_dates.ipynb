{
 "cells": [
  {
   "cell_type": "code",
   "execution_count": null,
   "metadata": {},
   "outputs": [],
   "source": [
    "from selenium import webdriver\n",
    "from selenium.webdriver.chrome.options import Options\n",
    "from selenium import webdriver\n",
    "import pandas as pd\n",
    "import re\n",
    "from datetime import date, timedelta\n",
    "#from webdriver_manager.chrome import ChromeDriverManager\n",
    "chrome_options = Options()\n",
    "chrome_options.add_argument('--headless')\n",
    "chrome_options.add_argument('--no-sandbox')\n",
    "chrome_options.add_argument('--disable-dev-shm-usage')\n"
   ]
  },
  {
   "cell_type": "code",
   "execution_count": null,
   "metadata": {},
   "outputs": [],
   "source": [
    "jobs={\"roles\":[],\n",
    "     \"companies\":[],\n",
    "     \"locations\":[],\n",
    "     \"Dates\":[],\n",
    "     \"salary\":[],\n",
    "     }"
   ]
  },
  {
   "cell_type": "code",
   "execution_count": null,
   "metadata": {},
   "outputs": [],
   "source": [
    "MAX_PAGE_NUM = 5\n",
    "MAX_PAGE_DIG = 3\n",
    "driver = webdriver.Chrome('/usr/bin/chromedriver',chrome_options=chrome_options)\n",
    "#driver = webdriver.Chrome(ChromeDriverManager().install())"
   ]
  },
  {
   "cell_type": "code",
   "execution_count": null,
   "metadata": {},
   "outputs": [],
   "source": [
    "for i in range(1, MAX_PAGE_NUM+1):\n",
    "    page_num = (MAX_PAGE_DIG - len(str(i))) * \"0\" + str(i)\n",
    "    #url=\"https://www.naukri.com/data-scientist-jobs-\"+page_num+\"?k=data%20scientist\"\n",
    "    url = \"https://www.naukri.com/software-developer-software-engineer-graphic-designer-data-analyst-data-scientist-business-analyst-hr-manager-project-engineer-project-manager-qa-lead-jobs-\"\n",
    "    driver.get(url)\n",
    "    time.sleep(1)\n",
    "    lst=driver.find_elements_by_css_selector(\".jobTuple.bgWhite.br4.mb-8\")\n",
    "    current_date = date.today()\n",
    "    \n",
    "    for job in lst:\n",
    "    \n",
    "        try:\n",
    "            role=job.find_element_by_css_selector(\"a.title.fw500.ellipsis\").text\n",
    "            company=job.find_element_by_css_selector(\"a.subTitle.ellipsis.fleft\").text\n",
    "            location=job.find_element_by_css_selector(\".fleft.grey-text.br2.placeHolderLi.location\").text\n",
    "            salaries=job.find_element_by_css_selector(\".fleft.grey-text.br2.placeHolderLi.salary\").text\n",
    "            #date=job.find_element_by_css_selector(\".type.br2.fleft.grey\").text\n",
    "            posting_date=job.find_elements_by_css_selector(\".fleft.fw500\")\n",
    "            if type(posting_date) is not list:\n",
    "                date = posting_date\n",
    "            else:\n",
    "                date = posting_date[-1].text\n",
    "            #calculating posting date\n",
    "            date = date.split(' ')[0]\n",
    "            date = re.sub(\"[^\\d]\", \"\", date)\n",
    "            if date.isnumeric():\n",
    "                date = int(date)\n",
    "            else:\n",
    "                date = 0\n",
    "            date = current_date - timedelta(date)\n",
    "            \n",
    "            \n",
    "        except NoSuchElementException:\n",
    "             pass\n",
    "            \n",
    "        \n",
    "        jobs[\"roles\"].append(role)\n",
    "        jobs[\"companies\"].append(company)\n",
    "        jobs[\"locations\"].append(location)\n",
    "        jobs[\"salary\"].append(salaries)\n",
    "        jobs[\"Dates\"].append(date)\n"
   ]
  },
  {
   "cell_type": "code",
   "execution_count": null,
   "metadata": {},
   "outputs": [],
   "source": [
    "df1=pd.DataFrame(jobs)\n",
    "df1"
   ]
  },
  {
   "cell_type": "code",
   "execution_count": null,
   "metadata": {},
   "outputs": [],
   "source": [
    "df1.to_csv('naukri_final.csv',index=False)"
   ]
  }
 ],
 "metadata": {
  "kernelspec": {
   "display_name": "Python 3",
   "language": "python",
   "name": "python3"
  },
  "language_info": {
   "codemirror_mode": {
    "name": "ipython",
    "version": 3
   },
   "file_extension": ".py",
   "mimetype": "text/x-python",
   "name": "python",
   "nbconvert_exporter": "python",
   "pygments_lexer": "ipython3",
   "version": "3.9.6"
  }
 },
 "nbformat": 4,
 "nbformat_minor": 4
}
