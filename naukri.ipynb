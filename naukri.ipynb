{
 "cells": [
  {
   "cell_type": "raw",
   "metadata": {},
   "source": [
    "# Web Scraping:\n",
    "1. Import the libraries and classes:\n",
    "    - urllib request.\n",
    "    - BeautifulSoup.\n",
    "2. Steps:\n",
    "\n",
    "\n",
    "    a. html upload.\n",
    "    b. html parser.\n",
    "    c. Extraction of data from web page.\n",
    "    d. Transformation into required file: csv."
   ]
  },
  {
   "cell_type": "code",
   "execution_count": 2,
   "metadata": {},
   "outputs": [],
   "source": [
    "import requests\n",
    "from selenium import webdriver\n",
    "from bs4 import BeautifulSoup\n",
    "import time\n",
    "import pandas as pd\n",
    "import re\n",
    "from datetime import date,timedelta"
   ]
  },
  {
   "cell_type": "code",
   "execution_count": 6,
   "metadata": {},
   "outputs": [
    {
     "name": "stderr",
     "output_type": "stream",
     "text": [
      "<ipython-input-6-173ffc4a619d>:9: DeprecationWarning: executable_path has been deprecated, please pass in a Service object\n",
      "  driver = webdriver.Chrome(r'C:\\Users\\ABC\\Downloads\\chromedriver.exe')\n"
     ]
    }
   ],
   "source": [
    "title=[]\n",
    "salary=[]\n",
    "location=[]\n",
    "company=[]\n",
    "posting=[]\n",
    "for x in range(500):\n",
    "    url = \"https://www.naukri.com/software-developer-software-engineer-graphic-designer-data-analyst-data-scientist-business-analyst-hr-manager-project-engineer-project-manager-qa-lead-jobs-\"+str(x)+\"?k=Software%20Developer%2C%20Software%20Engineer%2C%20Graphic%20Designer%2C%20Data%20Analyst%2C%20Data%20Scientist%2C%20Business%20Analyst%2C%20HR%20Manager%2C%20Project%20Engineer%2C%20Project%20Manager%2C%20QA%20Lead\"\n",
    "    \n",
    "    driver = webdriver.Chrome(r'C:\\Users\\ABC\\Downloads\\chromedriver.exe')\n",
    "    driver.get(url)\n",
    "    time.sleep(1)\n",
    "    soup = BeautifulSoup(driver.page_source, 'html5lib')\n",
    "# print(soup.prettify())\n",
    "    driver.close()\n",
    "    results = soup.find('div',class_='list')\n",
    "\n",
    "    for a in results.find_all('article',class_='jobTuple bgWhite br4 mb-8'):\n",
    "        Title=a.find('a', attrs={'class':'title fw500 ellipsis'})\n",
    "        Salary=a.find('li', attrs={'class':'fleft grey-text br2 placeHolderLi salary'})\n",
    "        Location=a.find('li', attrs={'class':'fleft grey-text br2 placeHolderLi location'})\n",
    "        CompanyName=a.find('a',attrs={'class':'subTitle ellipsis fleft'})\n",
    "        PostingDate=a.find('div', class_='jobTupleFooter mt-20')\n",
    "    \n",
    "        title.append(Title.text)\n",
    "        salary.append(Salary.text)\n",
    "        location.append(Location.text)\n",
    "        company.append(CompanyName.text)\n",
    "        posting.append(PostingDate.text)"
   ]
  },
  {
   "cell_type": "code",
   "execution_count": 7,
   "metadata": {},
   "outputs": [
    {
     "data": {
      "text/html": [
       "<div>\n",
       "<style scoped>\n",
       "    .dataframe tbody tr th:only-of-type {\n",
       "        vertical-align: middle;\n",
       "    }\n",
       "\n",
       "    .dataframe tbody tr th {\n",
       "        vertical-align: top;\n",
       "    }\n",
       "\n",
       "    .dataframe thead th {\n",
       "        text-align: right;\n",
       "    }\n",
       "</style>\n",
       "<table border=\"1\" class=\"dataframe\">\n",
       "  <thead>\n",
       "    <tr style=\"text-align: right;\">\n",
       "      <th></th>\n",
       "      <th>Title</th>\n",
       "      <th>CompanyName</th>\n",
       "      <th>Salary</th>\n",
       "      <th>PostingDate</th>\n",
       "      <th>Location</th>\n",
       "    </tr>\n",
       "  </thead>\n",
       "  <tbody>\n",
       "    <tr>\n",
       "      <th>0</th>\n",
       "      <td>Software Developer</td>\n",
       "      <td>WINMAN SOFTWARE INDIA LLP</td>\n",
       "      <td>3,50,000 - 6,00,000 PA.</td>\n",
       "      <td>FEATURED3 Days Agosave</td>\n",
       "      <td>Mangaluru/Mangalore, Udupi, Dakshina Kannada</td>\n",
       "    </tr>\n",
       "    <tr>\n",
       "      <th>1</th>\n",
       "      <td>Business Data Analyst</td>\n",
       "      <td>Incuspaze Solutions Private Limited</td>\n",
       "      <td>Not disclosed</td>\n",
       "      <td>4 Days Agosave</td>\n",
       "      <td>Mumbai, Indore, New Delhi, Lucknow, Gurgaon/Gu...</td>\n",
       "    </tr>\n",
       "    <tr>\n",
       "      <th>2</th>\n",
       "      <td>Looking For A Full Time Business Analyst</td>\n",
       "      <td>Blockseed Consultancy Private Limited</td>\n",
       "      <td>3,00,000 - 5,00,000 PA. (Including Variable: 2...</td>\n",
       "      <td>HOT JOB1 Day Agosave</td>\n",
       "      <td>Indore(WFH during Covid)</td>\n",
       "    </tr>\n",
       "    <tr>\n",
       "      <th>3</th>\n",
       "      <td>Professional 2 Business Analyst</td>\n",
       "      <td>DXC Technology</td>\n",
       "      <td>Not disclosed</td>\n",
       "      <td>8 Days Agosave</td>\n",
       "      <td>Indore</td>\n",
       "    </tr>\n",
       "    <tr>\n",
       "      <th>4</th>\n",
       "      <td>Software Development Engineer</td>\n",
       "      <td>Phonon Communications Private Limited</td>\n",
       "      <td>7,00,000 - 10,00,000 PA.</td>\n",
       "      <td>HOT JOBTodaysave</td>\n",
       "      <td>Indore, Vadodara</td>\n",
       "    </tr>\n",
       "    <tr>\n",
       "      <th>...</th>\n",
       "      <td>...</td>\n",
       "      <td>...</td>\n",
       "      <td>...</td>\n",
       "      <td>...</td>\n",
       "      <td>...</td>\n",
       "    </tr>\n",
       "    <tr>\n",
       "      <th>2617</th>\n",
       "      <td>Senior Front-End Developer, Software Development</td>\n",
       "      <td>Ryan, LLC.</td>\n",
       "      <td>Not disclosed</td>\n",
       "      <td>7 Days Agosave</td>\n",
       "      <td>remote</td>\n",
       "    </tr>\n",
       "    <tr>\n",
       "      <th>2618</th>\n",
       "      <td>PHP Laravel Developer</td>\n",
       "      <td>PinnacleWorks Infotech (P)</td>\n",
       "      <td>4,00,000 - 8,00,000 PA.</td>\n",
       "      <td>HOT JOB10 Days Agosave</td>\n",
       "      <td>Gurgaon/Gurugram</td>\n",
       "    </tr>\n",
       "    <tr>\n",
       "      <th>2619</th>\n",
       "      <td>Back End and Front End Developer Node Js, Reac...</td>\n",
       "      <td>Drifly Technologies Private Limited</td>\n",
       "      <td>Not disclosed</td>\n",
       "      <td>HOT JOB13 Days Agosave</td>\n",
       "      <td>Gurgaon/Gurugram</td>\n",
       "    </tr>\n",
       "    <tr>\n",
       "      <th>2620</th>\n",
       "      <td>Php Developer</td>\n",
       "      <td>Softcell Technologies Global Private Ltd</td>\n",
       "      <td>Not disclosed</td>\n",
       "      <td>HOT JOB13 Days Agosave</td>\n",
       "      <td>Mumbai Suburban, Thane, Navi Mumbai, Mumbai (A...</td>\n",
       "    </tr>\n",
       "    <tr>\n",
       "      <th>2621</th>\n",
       "      <td>Senior Web Developer</td>\n",
       "      <td>QLICLABS TECHNOLOGIES PRIVATE LIMITED</td>\n",
       "      <td>5,00,000 - 7,00,000 PA.</td>\n",
       "      <td>HOT JOB13 Days Agosave</td>\n",
       "      <td>Mangaluru/Mangalore, Bangalore/Bengaluru(WFH d...</td>\n",
       "    </tr>\n",
       "  </tbody>\n",
       "</table>\n",
       "<p>2622 rows × 5 columns</p>\n",
       "</div>"
      ],
      "text/plain": [
       "                                                  Title  \\\n",
       "0                                    Software Developer   \n",
       "1                                 Business Data Analyst   \n",
       "2              Looking For A Full Time Business Analyst   \n",
       "3                       Professional 2 Business Analyst   \n",
       "4                         Software Development Engineer   \n",
       "...                                                 ...   \n",
       "2617  Senior Front-End Developer, Software Development    \n",
       "2618                              PHP Laravel Developer   \n",
       "2619  Back End and Front End Developer Node Js, Reac...   \n",
       "2620                                      Php Developer   \n",
       "2621                               Senior Web Developer   \n",
       "\n",
       "                                   CompanyName  \\\n",
       "0                    WINMAN SOFTWARE INDIA LLP   \n",
       "1          Incuspaze Solutions Private Limited   \n",
       "2        Blockseed Consultancy Private Limited   \n",
       "3                               DXC Technology   \n",
       "4        Phonon Communications Private Limited   \n",
       "...                                        ...   \n",
       "2617                                Ryan, LLC.   \n",
       "2618                PinnacleWorks Infotech (P)   \n",
       "2619       Drifly Technologies Private Limited   \n",
       "2620  Softcell Technologies Global Private Ltd   \n",
       "2621     QLICLABS TECHNOLOGIES PRIVATE LIMITED   \n",
       "\n",
       "                                                 Salary  \\\n",
       "0                               3,50,000 - 6,00,000 PA.   \n",
       "1                                         Not disclosed   \n",
       "2     3,00,000 - 5,00,000 PA. (Including Variable: 2...   \n",
       "3                                         Not disclosed   \n",
       "4                              7,00,000 - 10,00,000 PA.   \n",
       "...                                                 ...   \n",
       "2617                                      Not disclosed   \n",
       "2618                            4,00,000 - 8,00,000 PA.   \n",
       "2619                                      Not disclosed   \n",
       "2620                                      Not disclosed   \n",
       "2621                            5,00,000 - 7,00,000 PA.   \n",
       "\n",
       "                 PostingDate  \\\n",
       "0     FEATURED3 Days Agosave   \n",
       "1             4 Days Agosave   \n",
       "2       HOT JOB1 Day Agosave   \n",
       "3             8 Days Agosave   \n",
       "4           HOT JOBTodaysave   \n",
       "...                      ...   \n",
       "2617          7 Days Agosave   \n",
       "2618  HOT JOB10 Days Agosave   \n",
       "2619  HOT JOB13 Days Agosave   \n",
       "2620  HOT JOB13 Days Agosave   \n",
       "2621  HOT JOB13 Days Agosave   \n",
       "\n",
       "                                               Location  \n",
       "0          Mangaluru/Mangalore, Udupi, Dakshina Kannada  \n",
       "1     Mumbai, Indore, New Delhi, Lucknow, Gurgaon/Gu...  \n",
       "2                              Indore(WFH during Covid)  \n",
       "3                                                Indore  \n",
       "4                                      Indore, Vadodara  \n",
       "...                                                 ...  \n",
       "2617                                             remote  \n",
       "2618                                   Gurgaon/Gurugram  \n",
       "2619                                   Gurgaon/Gurugram  \n",
       "2620  Mumbai Suburban, Thane, Navi Mumbai, Mumbai (A...  \n",
       "2621  Mangaluru/Mangalore, Bangalore/Bengaluru(WFH d...  \n",
       "\n",
       "[2622 rows x 5 columns]"
      ]
     },
     "execution_count": 7,
     "metadata": {},
     "output_type": "execute_result"
    }
   ],
   "source": [
    "df = pd.DataFrame({\"Title\":title,\"CompanyName\":company,\"Salary\":salary,\"PostingDate\":posting,\"Location\":location})\n",
    "df"
   ]
  },
  {
   "cell_type": "code",
   "execution_count": 8,
   "metadata": {},
   "outputs": [
    {
     "data": {
      "text/plain": [
       "129"
      ]
     },
     "execution_count": 8,
     "metadata": {},
     "output_type": "execute_result"
    }
   ],
   "source": [
    "df.duplicated().sum()"
   ]
  },
  {
   "cell_type": "code",
   "execution_count": 9,
   "metadata": {},
   "outputs": [],
   "source": [
    "df.to_csv('naukri.csv',index=False)"
   ]
  },
  {
   "cell_type": "code",
   "execution_count": null,
   "metadata": {},
   "outputs": [],
   "source": []
  },
  {
   "cell_type": "code",
   "execution_count": null,
   "metadata": {},
   "outputs": [],
   "source": []
  },
  {
   "cell_type": "code",
   "execution_count": null,
   "metadata": {},
   "outputs": [],
   "source": []
  },
  {
   "cell_type": "code",
   "execution_count": 17,
   "metadata": {},
   "outputs": [
    {
     "data": {
      "text/html": [
       "<div>\n",
       "<style scoped>\n",
       "    .dataframe tbody tr th:only-of-type {\n",
       "        vertical-align: middle;\n",
       "    }\n",
       "\n",
       "    .dataframe tbody tr th {\n",
       "        vertical-align: top;\n",
       "    }\n",
       "\n",
       "    .dataframe thead th {\n",
       "        text-align: right;\n",
       "    }\n",
       "</style>\n",
       "<table border=\"1\" class=\"dataframe\">\n",
       "  <thead>\n",
       "    <tr style=\"text-align: right;\">\n",
       "      <th></th>\n",
       "      <th>Title</th>\n",
       "      <th>CompanyName</th>\n",
       "      <th>Salary</th>\n",
       "      <th>PostingDate</th>\n",
       "      <th>Location</th>\n",
       "    </tr>\n",
       "  </thead>\n",
       "  <tbody>\n",
       "    <tr>\n",
       "      <th>0</th>\n",
       "      <td>Software Engineer, Backend Developer</td>\n",
       "      <td>Jumpcloud</td>\n",
       "      <td>Not disclosed</td>\n",
       "      <td>FEATURED6 Days Agosave</td>\n",
       "      <td>Remote</td>\n",
       "    </tr>\n",
       "    <tr>\n",
       "      <th>1</th>\n",
       "      <td>Graphic Designer</td>\n",
       "      <td>La Renon Healthcare Private Limited</td>\n",
       "      <td>Not disclosed</td>\n",
       "      <td>FEATURED4 Days Agosave</td>\n",
       "      <td>Ahmedabad</td>\n",
       "    </tr>\n",
       "    <tr>\n",
       "      <th>2</th>\n",
       "      <td>Looking For A Full Time Business Analyst</td>\n",
       "      <td>Blockseed Consultancy Private Limited</td>\n",
       "      <td>3,00,000 - 5,00,000 PA. (Including Variable: 2...</td>\n",
       "      <td>HOT JOB1 Day Agosave</td>\n",
       "      <td>Indore(WFH during Covid)</td>\n",
       "    </tr>\n",
       "    <tr>\n",
       "      <th>3</th>\n",
       "      <td>Business Data Analyst</td>\n",
       "      <td>Incuspaze Solutions Private Limited</td>\n",
       "      <td>Not disclosed</td>\n",
       "      <td>4 Days Agosave</td>\n",
       "      <td>Mumbai, Indore, New Delhi, Lucknow, Gurgaon/Gu...</td>\n",
       "    </tr>\n",
       "    <tr>\n",
       "      <th>4</th>\n",
       "      <td>Professional 2 Business Analyst</td>\n",
       "      <td>DXC Technology</td>\n",
       "      <td>Not disclosed</td>\n",
       "      <td>7 Days Agosave</td>\n",
       "      <td>Indore</td>\n",
       "    </tr>\n",
       "  </tbody>\n",
       "</table>\n",
       "</div>"
      ],
      "text/plain": [
       "                                      Title  \\\n",
       "0      Software Engineer, Backend Developer   \n",
       "1                          Graphic Designer   \n",
       "2  Looking For A Full Time Business Analyst   \n",
       "3                     Business Data Analyst   \n",
       "4           Professional 2 Business Analyst   \n",
       "\n",
       "                             CompanyName  \\\n",
       "0                              Jumpcloud   \n",
       "1    La Renon Healthcare Private Limited   \n",
       "2  Blockseed Consultancy Private Limited   \n",
       "3    Incuspaze Solutions Private Limited   \n",
       "4                         DXC Technology   \n",
       "\n",
       "                                              Salary             PostingDate  \\\n",
       "0                                      Not disclosed  FEATURED6 Days Agosave   \n",
       "1                                      Not disclosed  FEATURED4 Days Agosave   \n",
       "2  3,00,000 - 5,00,000 PA. (Including Variable: 2...    HOT JOB1 Day Agosave   \n",
       "3                                      Not disclosed          4 Days Agosave   \n",
       "4                                      Not disclosed          7 Days Agosave   \n",
       "\n",
       "                                            Location  \n",
       "0                                             Remote  \n",
       "1                                          Ahmedabad  \n",
       "2                           Indore(WFH during Covid)  \n",
       "3  Mumbai, Indore, New Delhi, Lucknow, Gurgaon/Gu...  \n",
       "4                                             Indore  "
      ]
     },
     "execution_count": 17,
     "metadata": {},
     "output_type": "execute_result"
    }
   ],
   "source": [
    "d=pd.read_csv(\"naukri.csv\")\n",
    "d.head()"
   ]
  },
  {
   "cell_type": "markdown",
   "metadata": {},
   "source": [
    "## Posting Date"
   ]
  },
  {
   "cell_type": "code",
   "execution_count": 26,
   "metadata": {},
   "outputs": [
    {
     "ename": "TypeError",
     "evalue": "expected string or bytes-like object",
     "output_type": "error",
     "traceback": [
      "\u001b[1;31m---------------------------------------------------------------------------\u001b[0m",
      "\u001b[1;31mTypeError\u001b[0m                                 Traceback (most recent call last)",
      "\u001b[1;32m<ipython-input-26-298fd717636b>\u001b[0m in \u001b[0;36m<module>\u001b[1;34m\u001b[0m\n\u001b[1;32m----> 1\u001b[1;33m \u001b[0md\u001b[0m\u001b[1;33m[\u001b[0m\u001b[1;34m'PostingDate'\u001b[0m\u001b[1;33m]\u001b[0m\u001b[1;33m=\u001b[0m\u001b[0mpd\u001b[0m\u001b[1;33m.\u001b[0m\u001b[0mto_numeric\u001b[0m\u001b[1;33m(\u001b[0m\u001b[0md\u001b[0m\u001b[1;33m[\u001b[0m\u001b[1;34m'PostingDate'\u001b[0m\u001b[1;33m]\u001b[0m\u001b[1;33m.\u001b[0m\u001b[0mapply\u001b[0m\u001b[1;33m(\u001b[0m\u001b[1;32mlambda\u001b[0m \u001b[0mx\u001b[0m\u001b[1;33m:\u001b[0m \u001b[1;36m0\u001b[0m \u001b[1;32mif\u001b[0m \u001b[0many\u001b[0m\u001b[1;33m(\u001b[0m\u001b[0mre\u001b[0m\u001b[1;33m.\u001b[0m\u001b[0mfindall\u001b[0m\u001b[1;33m(\u001b[0m\u001b[1;34mr'Few Hours|Just Now|Today'\u001b[0m\u001b[1;33m,\u001b[0m \u001b[0mx\u001b[0m\u001b[1;33m)\u001b[0m\u001b[1;33m)\u001b[0m \u001b[1;32melse\u001b[0m \u001b[1;34m\"\"\u001b[0m\u001b[1;33m.\u001b[0m\u001b[0mjoin\u001b[0m\u001b[1;33m(\u001b[0m\u001b[0mre\u001b[0m\u001b[1;33m.\u001b[0m\u001b[0mfindall\u001b[0m\u001b[1;33m(\u001b[0m\u001b[1;34m'\\d+'\u001b[0m\u001b[1;33m,\u001b[0m\u001b[0mx\u001b[0m\u001b[1;33m)\u001b[0m\u001b[1;33m)\u001b[0m\u001b[1;33m)\u001b[0m\u001b[1;33m,\u001b[0m\u001b[1;33m)\u001b[0m\u001b[1;33m\u001b[0m\u001b[1;33m\u001b[0m\u001b[0m\n\u001b[0m\u001b[0;32m      2\u001b[0m \u001b[1;31m# d['PostingDate']=d['PostingDate'].apply(lambda x: date.today() if 0.0 else date.today()+timedelta(days=x))\u001b[0m\u001b[1;33m\u001b[0m\u001b[1;33m\u001b[0m\u001b[1;33m\u001b[0m\u001b[0m\n",
      "\u001b[1;32m~\\anaconda3\\lib\\site-packages\\pandas\\core\\series.py\u001b[0m in \u001b[0;36mapply\u001b[1;34m(self, func, convert_dtype, args, **kwds)\u001b[0m\n\u001b[0;32m   4136\u001b[0m             \u001b[1;32melse\u001b[0m\u001b[1;33m:\u001b[0m\u001b[1;33m\u001b[0m\u001b[1;33m\u001b[0m\u001b[0m\n\u001b[0;32m   4137\u001b[0m                 \u001b[0mvalues\u001b[0m \u001b[1;33m=\u001b[0m \u001b[0mself\u001b[0m\u001b[1;33m.\u001b[0m\u001b[0mastype\u001b[0m\u001b[1;33m(\u001b[0m\u001b[0mobject\u001b[0m\u001b[1;33m)\u001b[0m\u001b[1;33m.\u001b[0m\u001b[0m_values\u001b[0m\u001b[1;33m\u001b[0m\u001b[1;33m\u001b[0m\u001b[0m\n\u001b[1;32m-> 4138\u001b[1;33m                 \u001b[0mmapped\u001b[0m \u001b[1;33m=\u001b[0m \u001b[0mlib\u001b[0m\u001b[1;33m.\u001b[0m\u001b[0mmap_infer\u001b[0m\u001b[1;33m(\u001b[0m\u001b[0mvalues\u001b[0m\u001b[1;33m,\u001b[0m \u001b[0mf\u001b[0m\u001b[1;33m,\u001b[0m \u001b[0mconvert\u001b[0m\u001b[1;33m=\u001b[0m\u001b[0mconvert_dtype\u001b[0m\u001b[1;33m)\u001b[0m\u001b[1;33m\u001b[0m\u001b[1;33m\u001b[0m\u001b[0m\n\u001b[0m\u001b[0;32m   4139\u001b[0m \u001b[1;33m\u001b[0m\u001b[0m\n\u001b[0;32m   4140\u001b[0m         \u001b[1;32mif\u001b[0m \u001b[0mlen\u001b[0m\u001b[1;33m(\u001b[0m\u001b[0mmapped\u001b[0m\u001b[1;33m)\u001b[0m \u001b[1;32mand\u001b[0m \u001b[0misinstance\u001b[0m\u001b[1;33m(\u001b[0m\u001b[0mmapped\u001b[0m\u001b[1;33m[\u001b[0m\u001b[1;36m0\u001b[0m\u001b[1;33m]\u001b[0m\u001b[1;33m,\u001b[0m \u001b[0mSeries\u001b[0m\u001b[1;33m)\u001b[0m\u001b[1;33m:\u001b[0m\u001b[1;33m\u001b[0m\u001b[1;33m\u001b[0m\u001b[0m\n",
      "\u001b[1;32mpandas\\_libs\\lib.pyx\u001b[0m in \u001b[0;36mpandas._libs.lib.map_infer\u001b[1;34m()\u001b[0m\n",
      "\u001b[1;32m<ipython-input-26-298fd717636b>\u001b[0m in \u001b[0;36m<lambda>\u001b[1;34m(x)\u001b[0m\n\u001b[1;32m----> 1\u001b[1;33m \u001b[0md\u001b[0m\u001b[1;33m[\u001b[0m\u001b[1;34m'PostingDate'\u001b[0m\u001b[1;33m]\u001b[0m\u001b[1;33m=\u001b[0m\u001b[0mpd\u001b[0m\u001b[1;33m.\u001b[0m\u001b[0mto_numeric\u001b[0m\u001b[1;33m(\u001b[0m\u001b[0md\u001b[0m\u001b[1;33m[\u001b[0m\u001b[1;34m'PostingDate'\u001b[0m\u001b[1;33m]\u001b[0m\u001b[1;33m.\u001b[0m\u001b[0mapply\u001b[0m\u001b[1;33m(\u001b[0m\u001b[1;32mlambda\u001b[0m \u001b[0mx\u001b[0m\u001b[1;33m:\u001b[0m \u001b[1;36m0\u001b[0m \u001b[1;32mif\u001b[0m \u001b[0many\u001b[0m\u001b[1;33m(\u001b[0m\u001b[0mre\u001b[0m\u001b[1;33m.\u001b[0m\u001b[0mfindall\u001b[0m\u001b[1;33m(\u001b[0m\u001b[1;34mr'Few Hours|Just Now|Today'\u001b[0m\u001b[1;33m,\u001b[0m \u001b[0mx\u001b[0m\u001b[1;33m)\u001b[0m\u001b[1;33m)\u001b[0m \u001b[1;32melse\u001b[0m \u001b[1;34m\"\"\u001b[0m\u001b[1;33m.\u001b[0m\u001b[0mjoin\u001b[0m\u001b[1;33m(\u001b[0m\u001b[0mre\u001b[0m\u001b[1;33m.\u001b[0m\u001b[0mfindall\u001b[0m\u001b[1;33m(\u001b[0m\u001b[1;34m'\\d+'\u001b[0m\u001b[1;33m,\u001b[0m\u001b[0mx\u001b[0m\u001b[1;33m)\u001b[0m\u001b[1;33m)\u001b[0m\u001b[1;33m)\u001b[0m\u001b[1;33m,\u001b[0m\u001b[1;33m)\u001b[0m\u001b[1;33m\u001b[0m\u001b[1;33m\u001b[0m\u001b[0m\n\u001b[0m\u001b[0;32m      2\u001b[0m \u001b[1;31m# d['PostingDate']=d['PostingDate'].apply(lambda x: date.today() if 0.0 else date.today()+timedelta(days=x))\u001b[0m\u001b[1;33m\u001b[0m\u001b[1;33m\u001b[0m\u001b[1;33m\u001b[0m\u001b[0m\n",
      "\u001b[1;32m~\\anaconda3\\lib\\re.py\u001b[0m in \u001b[0;36mfindall\u001b[1;34m(pattern, string, flags)\u001b[0m\n\u001b[0;32m    239\u001b[0m \u001b[1;33m\u001b[0m\u001b[0m\n\u001b[0;32m    240\u001b[0m     Empty matches are included in the result.\"\"\"\n\u001b[1;32m--> 241\u001b[1;33m     \u001b[1;32mreturn\u001b[0m \u001b[0m_compile\u001b[0m\u001b[1;33m(\u001b[0m\u001b[0mpattern\u001b[0m\u001b[1;33m,\u001b[0m \u001b[0mflags\u001b[0m\u001b[1;33m)\u001b[0m\u001b[1;33m.\u001b[0m\u001b[0mfindall\u001b[0m\u001b[1;33m(\u001b[0m\u001b[0mstring\u001b[0m\u001b[1;33m)\u001b[0m\u001b[1;33m\u001b[0m\u001b[1;33m\u001b[0m\u001b[0m\n\u001b[0m\u001b[0;32m    242\u001b[0m \u001b[1;33m\u001b[0m\u001b[0m\n\u001b[0;32m    243\u001b[0m \u001b[1;32mdef\u001b[0m \u001b[0mfinditer\u001b[0m\u001b[1;33m(\u001b[0m\u001b[0mpattern\u001b[0m\u001b[1;33m,\u001b[0m \u001b[0mstring\u001b[0m\u001b[1;33m,\u001b[0m \u001b[0mflags\u001b[0m\u001b[1;33m=\u001b[0m\u001b[1;36m0\u001b[0m\u001b[1;33m)\u001b[0m\u001b[1;33m:\u001b[0m\u001b[1;33m\u001b[0m\u001b[1;33m\u001b[0m\u001b[0m\n",
      "\u001b[1;31mTypeError\u001b[0m: expected string or bytes-like object"
     ]
    }
   ],
   "source": [
    "d['PostingDate']=pd.to_numeric(d['PostingDate'].apply(lambda x: 0 if any(re.findall(r'Few Hours|Just Now|Today', x)) else \"\".join(re.findall('\\d+',x))), downcast='integer')\n",
    "d['PostingDate']=d['PostingDate'].apply(lambda x: date.today() if 0.0 else date.today()+timedelta(days=x))"
   ]
  },
  {
   "cell_type": "code",
   "execution_count": null,
   "metadata": {},
   "outputs": [],
   "source": [
    "d['PostingDate'].head()"
   ]
  },
  {
   "cell_type": "markdown",
   "metadata": {},
   "source": [
    "## Location"
   ]
  },
  {
   "cell_type": "code",
   "execution_count": 27,
   "metadata": {},
   "outputs": [],
   "source": [
    "d['Location']=d['Location'].apply(lambda x:  re.sub(\"[\\(\\[].*?[\\)\\]]\", \"\", x).strip())"
   ]
  },
  {
   "cell_type": "code",
   "execution_count": 28,
   "metadata": {},
   "outputs": [
    {
     "data": {
      "text/plain": [
       "0                                               [Remote]\n",
       "1                                            [Ahmedabad]\n",
       "2                                               [Indore]\n",
       "3      [Mumbai, Indore, New Delhi, Lucknow, Gurgaon, ...\n",
       "4                                               [Indore]\n",
       "                             ...                        \n",
       "413                                             [Indore]\n",
       "414                                             [Remote]\n",
       "415                                             [Indore]\n",
       "416                                     [Bhopal, Indore]\n",
       "417                    [Indore, Hyderabad, Secunderabad]\n",
       "Name: Location, Length: 418, dtype: object"
      ]
     },
     "execution_count": 28,
     "metadata": {},
     "output_type": "execute_result"
    }
   ],
   "source": [
    "d['Location'].apply(lambda x: x.split('/'))"
   ]
  },
  {
   "cell_type": "code",
   "execution_count": null,
   "metadata": {},
   "outputs": [],
   "source": []
  }
 ],
 "metadata": {
  "kernelspec": {
   "display_name": "Python 3",
   "language": "python",
   "name": "python3"
  },
  "language_info": {
   "codemirror_mode": {
    "name": "ipython",
    "version": 3
   },
   "file_extension": ".py",
   "mimetype": "text/x-python",
   "name": "python",
   "nbconvert_exporter": "python",
   "pygments_lexer": "ipython3",
   "version": "3.8.8"
  }
 },
 "nbformat": 4,
 "nbformat_minor": 2
}
